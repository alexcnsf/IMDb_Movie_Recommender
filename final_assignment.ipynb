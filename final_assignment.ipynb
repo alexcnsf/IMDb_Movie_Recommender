{
 "cells": [
  {
   "cell_type": "code",
   "execution_count": 94,
   "metadata": {},
   "outputs": [],
   "source": [
    "from sklearn.feature_extraction.text import TfidfVectorizer\n",
    "import numpy as np\n",
    "from sklearn.preprocessing import MultiLabelBinarizer\n",
    "\n",
    "from sklearn.preprocessing import OneHotEncoder\n",
    "import pandas as pd\n",
    "import numpy as np\n",
    "\n",
    "from sklearn.metrics.pairwise import cosine_similarity\n",
    "import numpy as np\n",
    "\n"
   ]
  },
  {
   "cell_type": "code",
   "execution_count": 95,
   "metadata": {},
   "outputs": [],
   "source": [
    "#file_path = '/Users/anasoni/Downloads/Big_Data_DIS/Final_project/imdb_top_1000.csv'\n",
    "file_path = 'data/imdb_top_1000.csv'\n",
    "\n",
    "df_raw = pd.read_csv(file_path)\n",
    "\n",
    "\n",
    "#df_raw['Runtime'] = df_raw['Runtime'].str.extract('(\\d+)').astype(int)\n",
    "df_raw['Genre'] = df_raw['Genre'].str.split(', ')\n",
    "\n",
    "df_raw['Gross'] = df_raw['Gross'].str.replace(\",\", \"\").astype(float)\n",
    "#df_raw['Released_Year'] = df_raw['Released_Year'].astype(float) # theres one pg so hard to compare here lol will look at this later\n",
    "\n",
    "tfidf = TfidfVectorizer(stop_words='english')\n",
    "df_raw['overview_tfidf'] = list(tfidf.fit_transform(df_raw['Overview']).toarray())\n",
    "\n",
    "encoder = OneHotEncoder()\n",
    "directors_encoded = encoder.fit_transform(df_raw[['Director']])\n",
    "\n",
    "# Initialize MultiLabelBinarizer and transform genres\n",
    "mlb = MultiLabelBinarizer()\n",
    "genre_encoded = mlb.fit_transform(df_raw['Genre'])\n",
    "df_raw['genre_mlb'] = list(mlb.fit_transform(df_raw['Genre']))\n"
   ]
  },
  {
   "cell_type": "code",
   "execution_count": 96,
   "metadata": {},
   "outputs": [
    {
     "name": "stdout",
     "output_type": "stream",
     "text": [
      "Maximum values:\n",
      "Released_Year    2020.0\n",
      "IMDB_Rating         9.3\n",
      "Meta_score        100.0\n",
      "dtype: float64\n",
      "\n",
      "Minimum values:\n",
      "Released_Year    1920.0\n",
      "IMDB_Rating         7.6\n",
      "Meta_score         28.0\n",
      "dtype: float64\n"
     ]
    }
   ],
   "source": [
    "numeric_columns = ['Released_Year', 'IMDB_Rating', 'Meta_score']\n",
    "\n",
    "# Convert selected columns to numeric type (if not already)\n",
    "df_raw[numeric_columns] = df_raw[numeric_columns].apply(pd.to_numeric, errors='coerce')\n",
    "\n",
    "# Calculate the maximum and minimum values for each numeric column\n",
    "max_values = df_raw[numeric_columns].max()\n",
    "min_values = df_raw[numeric_columns].min()\n",
    "\n",
    "# Display the maximum and minimum values for each column\n",
    "print(\"Maximum values:\")\n",
    "print(max_values)\n",
    "print(\"\\nMinimum values:\")\n",
    "print(min_values)\n"
   ]
  },
  {
   "cell_type": "code",
   "execution_count": 97,
   "metadata": {},
   "outputs": [],
   "source": [
    "# Define maximum and minimum values for numeric features\n",
    "max_values = {\n",
    "    'Released_Year': max_values['Released_Year'],\n",
    "    'IMDB_Rating': max_values['IMDB_Rating'],\n",
    "    'Meta_score': max_values['Meta_score']\n",
    "}\n",
    "\n",
    "min_values = {\n",
    "    'Released_Year': min_values['Released_Year'],\n",
    "    'IMDB_Rating': min_values['IMDB_Rating'],\n",
    "    'Meta_score': min_values['Meta_score']\n",
    "}"
   ]
  },
  {
   "cell_type": "code",
   "execution_count": 98,
   "metadata": {},
   "outputs": [
    {
     "name": "stdout",
     "output_type": "stream",
     "text": [
      "Similarity (Released Year): 0.8460\n",
      "Similarity (IMDB Rating): 0.9765\n",
      "Similarity (Metascore): 0.8333\n"
     ]
    }
   ],
   "source": [
    "# Function to calculate similarity based on numeric difference and custom scaling factor (k)\n",
    "def calculate_numeric_similarity(x, y, feature_name, k):\n",
    "    max_val = max_values[feature_name]\n",
    "    min_val = min_values[feature_name]\n",
    "    range_val = max_val - min_val\n",
    "    \n",
    "    # Handle missing or invalid values\n",
    "    if pd.isnull(x) or pd.isnull(y) or range_val == 0:\n",
    "        return 0.0  # Return 0 similarity for missing or invalid values\n",
    "    \n",
    "    difference = abs(x - y)\n",
    "    similarity = max(100 - k * (difference / range_val) * 100, 0)\n",
    "    \n",
    "    # Normalize similarity between 0 and 1\n",
    "    similarity_normalized = similarity / 100.0\n",
    "    return similarity_normalized\n",
    "\n",
    "# Example usage with customizable scaling factors (k) for each numeric feature\n",
    "def test_similarity():\n",
    "    file_path = 'data/imdb_top_1000.csv'\n",
    "    df_raw = pd.read_csv(file_path)\n",
    "\n",
    "    # Convert selected columns to numeric types\n",
    "    numeric_columns = ['Released_Year', 'IMDB_Rating', 'Meta_score']\n",
    "    df_raw[numeric_columns] = df_raw[numeric_columns].apply(pd.to_numeric, errors='coerce')\n",
    "\n",
    "    # Example movie indices\n",
    "    movie1_index = 0\n",
    "    movie2_index = 1\n",
    "\n",
    "    # Select movies based on indices\n",
    "    movie1 = df_raw.iloc[movie1_index]\n",
    "    movie2 = df_raw.iloc[movie2_index]\n",
    "\n",
    "    # Define scaling factors (k) for each numeric feature\n",
    "    k_year = 0.7\n",
    "    k_imdb = 0.4\n",
    "    k_metascore = 0.6\n",
    "\n",
    "    # Calculate similarity based on different numeric features with custom scaling factors (k)\n",
    "    similarity_year = calculate_numeric_similarity(movie1['Released_Year'], movie2['Released_Year'], 'Released_Year', k_year)\n",
    "    similarity_imdb = calculate_numeric_similarity(movie1['IMDB_Rating'], movie2['IMDB_Rating'], 'IMDB_Rating', k_imdb)\n",
    "    similarity_metascore = calculate_numeric_similarity(movie1['Meta_score'], movie2['Meta_score'], 'Meta_score', k_metascore)\n",
    "\n",
    "    # Print similarity scores as decimal values between 0 and 1\n",
    "    print(f\"Similarity (Released Year): {similarity_year:.4f}\")\n",
    "    print(f\"Similarity (IMDB Rating): {similarity_imdb:.4f}\")\n",
    "    print(f\"Similarity (Metascore): {similarity_metascore:.4f}\")\n",
    "\n",
    "# Call the function to test similarity calculation\n",
    "test_similarity()"
   ]
  },
  {
   "cell_type": "code",
   "execution_count": 99,
   "metadata": {},
   "outputs": [],
   "source": [
    "from sklearn.metrics.pairwise import cosine_similarity\n",
    "import numpy as np\n",
    "\n",
    "def filter_similarity(desc, genre, director, imdb, critic, year):\n",
    "    description_sim = .35 * desc\n",
    "    genre_sim = .25 * genre\n",
    "    released_year = .05 * year\n",
    "    imdb_rating = .1 * imdb\n",
    "    meta_score = .2 * critic\n",
    "    director_sim = .05 * director\n",
    "\n",
    "    return (description_sim + genre_sim + released_year + imdb_rating + meta_score + director_sim) * 100"
   ]
  },
  {
   "cell_type": "code",
   "execution_count": 100,
   "metadata": {},
   "outputs": [],
   "source": [
    "# Example function to calculate similarity\n",
    "def calculate_similarity(df, index):\n",
    "    similarities = {}\n",
    "    target = df.iloc[index]\n",
    "    for i, row in df.iterrows():\n",
    "        if i != index:\n",
    "\n",
    "            # This calculates description similarity\n",
    "            description_similarity = 0\n",
    "            # Combine weighted scores from different features\n",
    "            description_similarity += cosine_similarity([target['overview_tfidf']], [row['overview_tfidf']])[0][0]\n",
    "            # Add other similarities, weighted appropriately\n",
    "            \n",
    "            # This calculates genre similarities \n",
    "            intersection = np.logical_and(target['genre_mlb'], row[\"genre_mlb\"])\n",
    "            union = np.logical_or(target['genre_mlb'], row[\"genre_mlb\"])\n",
    "            genre_similarity = intersection.sum() / float(union.sum())\n",
    "\n",
    "            # This calculates whether movies share a director or not\n",
    "            director_similarity = 1 if target['Director'] == row['Director'] else 0\n",
    "            \n",
    "            # Define scaling factors (k) for each numeric feature\n",
    "            k_year = 0.7\n",
    "            k_imdb = 5\n",
    "            k_metascore = 0.6\n",
    "\n",
    "            # Release year\n",
    "            year_similarity = calculate_numeric_similarity(target['Released_Year'], row['Released_Year'], 'Released_Year', k_year)\n",
    "            imdb_similarity = calculate_numeric_similarity(target['IMDB_Rating'], row['IMDB_Rating'], 'IMDB_Rating', k_imdb)\n",
    "            meta_similarity = calculate_numeric_similarity(target['Meta_score'], row['Meta_score'], 'Meta_score', k_metascore)\n",
    "            \n",
    "\n",
    "            similarities[row['Series_Title']] = filter_similarity(director_similarity,genre_similarity, director_similarity,imdb_similarity, meta_similarity, year_similarity)\n",
    "    return sorted(similarities.items(), key=lambda x: x[1], reverse=True)\n",
    "\n",
    "def recommend_movies(title, top_n=10):\n",
    "    index = df_raw[df_raw['Series_Title'] == title].index[0]\n",
    "    recommendations = calculate_similarity(df_raw, index)\n",
    "    return recommendations[:top_n]\n",
    "\n",
    "\n",
    "\n",
    "# def calculate_similarity(df, index):\n",
    "    "
   ]
  },
  {
   "cell_type": "code",
   "execution_count": 101,
   "metadata": {},
   "outputs": [
    {
     "data": {
      "text/plain": [
       "[('Toy Story 3', 79.53931372549017),\n",
       " ('WALL·E', 57.35166666666667),\n",
       " ('Hauru no ugoku shiro', 53.49598039215684),\n",
       " ('Sen to Chihiro no kamikakushi', 51.057647058823555),\n",
       " ('The Secret of Kells', 49.720000000000006),\n",
       " ('Kari-gurashi no Arietti', 49.58833333333333),\n",
       " ('Mulan', 47.66833333333334),\n",
       " ('Rupan sansei: Kariosutoro no shiro', 47.00333333333334),\n",
       " ('Spider-Man: Into the Spider-Verse', 46.465),\n",
       " ('Mononoke-hime', 45.96666666666667)]"
      ]
     },
     "execution_count": 101,
     "metadata": {},
     "output_type": "execute_result"
    }
   ],
   "source": [
    "recommend_movies('Coco')"
   ]
  }
 ],
 "metadata": {
  "kernelspec": {
   "display_name": "Python 3",
   "language": "python",
   "name": "python3"
  },
  "language_info": {
   "codemirror_mode": {
    "name": "ipython",
    "version": 3
   },
   "file_extension": ".py",
   "mimetype": "text/x-python",
   "name": "python",
   "nbconvert_exporter": "python",
   "pygments_lexer": "ipython3",
   "version": "3.12.0"
  }
 },
 "nbformat": 4,
 "nbformat_minor": 2
}
